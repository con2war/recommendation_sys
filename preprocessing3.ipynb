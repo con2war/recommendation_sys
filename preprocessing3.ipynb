{
  "cells": [
    {
      "cell_type": "code",
      "execution_count": 1,
      "metadata": {
        "id": "TwXj2WNdwU9j"
      },
      "outputs": [],
      "source": [
        "import pandas as pd\n",
        "import numpy as np\n",
        "from sklearn.feature_extraction.text import CountVectorizer\n",
        "from sklearn.metrics.pairwise import cosine_similarity\n",
        "import pickle "
      ]
    },
    {
      "cell_type": "code",
      "execution_count": 2,
      "metadata": {
        "id": "oZJMrtMSwZHu"
      },
      "outputs": [],
      "source": [
        "def get_model_from_ID(ID):\n",
        "  return df[df.ID == ID][\"model\"].values[0]\n",
        "\n",
        "def get_ID_from_model(model):\n",
        "  return df[df.model == model][\"ID\"].values[0]"
      ]
    },
    {
      "cell_type": "code",
      "execution_count": 3,
      "metadata": {
        "id": "m3qlA7MywgcC"
      },
      "outputs": [],
      "source": [
        "df = pd.read_csv(r\"C:\\Users\\conor\\Documents\\phone_recommendation\\mobil_phone_rating.csv\")"
      ]
    },
    {
      "cell_type": "code",
      "execution_count": 4,
      "metadata": {
        "id": "86Hl_wg6wppj"
      },
      "outputs": [],
      "source": [
        "features = ['price', 'camera', 'display', 'battery']\n",
        "\n",
        "for feature in features:\n",
        "  df[feature] = df[feature].fillna('')"
      ]
    },
    {
      "cell_type": "code",
      "execution_count": 5,
      "metadata": {
        "id": "DMh1-RKZwsTg"
      },
      "outputs": [],
      "source": [
        "def combined_features(row):\n",
        "  combined_features = pd.DataFrame(df, columns= ['price','camera','display','battery'])\n",
        "\n",
        "df[\"combined_features\"] = df['price'].map(str) + ',' + df['camera'].map(str) + ',' + df['display'].map(str) + ',' + df['battery'].map(str)\n"
      ]
    },
    {
      "cell_type": "code",
      "execution_count": 6,
      "metadata": {
        "colab": {
          "base_uri": "https://localhost:8080/",
          "height": 423
        },
        "id": "fOlasatCxjfz",
        "outputId": "db25bb9b-cb63-4a78-c801-0add18bd0ff2"
      },
      "outputs": [
        {
          "data": {
            "text/html": [
              "<div>\n",
              "<style scoped>\n",
              "    .dataframe tbody tr th:only-of-type {\n",
              "        vertical-align: middle;\n",
              "    }\n",
              "\n",
              "    .dataframe tbody tr th {\n",
              "        vertical-align: top;\n",
              "    }\n",
              "\n",
              "    .dataframe thead th {\n",
              "        text-align: right;\n",
              "    }\n",
              "</style>\n",
              "<table border=\"1\" class=\"dataframe\">\n",
              "  <thead>\n",
              "    <tr style=\"text-align: right;\">\n",
              "      <th></th>\n",
              "      <th>ID</th>\n",
              "      <th>model</th>\n",
              "      <th>price</th>\n",
              "      <th>launch</th>\n",
              "      <th>camera</th>\n",
              "      <th>selfie</th>\n",
              "      <th>audio</th>\n",
              "      <th>display</th>\n",
              "      <th>battery</th>\n",
              "      <th>combined_features</th>\n",
              "    </tr>\n",
              "  </thead>\n",
              "  <tbody>\n",
              "    <tr>\n",
              "      <th>0</th>\n",
              "      <td>1</td>\n",
              "      <td>Huawei P50 Pro</td>\n",
              "      <td>$907</td>\n",
              "      <td>Jul-21</td>\n",
              "      <td>144</td>\n",
              "      <td>106.0</td>\n",
              "      <td>NaN</td>\n",
              "      <td>93</td>\n",
              "      <td>81</td>\n",
              "      <td>$907,144,93,81</td>\n",
              "    </tr>\n",
              "    <tr>\n",
              "      <th>1</th>\n",
              "      <td>2</td>\n",
              "      <td>Xiaomi Mi 11 Ultra</td>\n",
              "      <td>$1200</td>\n",
              "      <td>Mar-21</td>\n",
              "      <td>143</td>\n",
              "      <td>94.0</td>\n",
              "      <td>71.0</td>\n",
              "      <td>87</td>\n",
              "      <td>69</td>\n",
              "      <td>$1200,143,87,69</td>\n",
              "    </tr>\n",
              "    <tr>\n",
              "      <th>2</th>\n",
              "      <td>3</td>\n",
              "      <td>Huawei Mate 40 Pro+</td>\n",
              "      <td>$1363</td>\n",
              "      <td>Oct-20</td>\n",
              "      <td>139</td>\n",
              "      <td>NaN</td>\n",
              "      <td>NaN</td>\n",
              "      <td>85</td>\n",
              "      <td>89</td>\n",
              "      <td>$1363,139,85,89</td>\n",
              "    </tr>\n",
              "    <tr>\n",
              "      <th>3</th>\n",
              "      <td>4</td>\n",
              "      <td>Apple iPhone 13 Pro Max</td>\n",
              "      <td>$1099</td>\n",
              "      <td>Sep-21</td>\n",
              "      <td>137</td>\n",
              "      <td>99.0</td>\n",
              "      <td>75.0</td>\n",
              "      <td>99</td>\n",
              "      <td>89</td>\n",
              "      <td>$1099,137,99,89</td>\n",
              "    </tr>\n",
              "    <tr>\n",
              "      <th>4</th>\n",
              "      <td>5</td>\n",
              "      <td>Apple iPhone 13 Pro</td>\n",
              "      <td>$999</td>\n",
              "      <td>Sep-21</td>\n",
              "      <td>137</td>\n",
              "      <td>99.0</td>\n",
              "      <td>75.0</td>\n",
              "      <td>98</td>\n",
              "      <td>76</td>\n",
              "      <td>$999,137,98,76</td>\n",
              "    </tr>\n",
              "    <tr>\n",
              "      <th>...</th>\n",
              "      <td>...</td>\n",
              "      <td>...</td>\n",
              "      <td>...</td>\n",
              "      <td>...</td>\n",
              "      <td>...</td>\n",
              "      <td>...</td>\n",
              "      <td>...</td>\n",
              "      <td>...</td>\n",
              "      <td>...</td>\n",
              "      <td>...</td>\n",
              "    </tr>\n",
              "    <tr>\n",
              "      <th>218</th>\n",
              "      <td>219</td>\n",
              "      <td>Huawei P40 Lite</td>\n",
              "      <td>$279</td>\n",
              "      <td>Feb-20</td>\n",
              "      <td>39</td>\n",
              "      <td>NaN</td>\n",
              "      <td>NaN</td>\n",
              "      <td>41</td>\n",
              "      <td>73</td>\n",
              "      <td>$279,39,41,73</td>\n",
              "    </tr>\n",
              "    <tr>\n",
              "      <th>219</th>\n",
              "      <td>220</td>\n",
              "      <td>Wiko Power U20</td>\n",
              "      <td>$159</td>\n",
              "      <td>Jan-21</td>\n",
              "      <td>39</td>\n",
              "      <td>NaN</td>\n",
              "      <td>NaN</td>\n",
              "      <td>38</td>\n",
              "      <td>70</td>\n",
              "      <td>$159,39,38,70</td>\n",
              "    </tr>\n",
              "    <tr>\n",
              "      <th>220</th>\n",
              "      <td>221</td>\n",
              "      <td>Motorola Moto G9 Power</td>\n",
              "      <td>$229</td>\n",
              "      <td>Nov-20</td>\n",
              "      <td>37</td>\n",
              "      <td>NaN</td>\n",
              "      <td>NaN</td>\n",
              "      <td>35</td>\n",
              "      <td>70</td>\n",
              "      <td>$229,37,35,70</td>\n",
              "    </tr>\n",
              "    <tr>\n",
              "      <th>221</th>\n",
              "      <td>222</td>\n",
              "      <td>Realme C11</td>\n",
              "      <td>$119</td>\n",
              "      <td>Jun-20</td>\n",
              "      <td>37</td>\n",
              "      <td>NaN</td>\n",
              "      <td>NaN</td>\n",
              "      <td>30</td>\n",
              "      <td>61</td>\n",
              "      <td>$119,37,30,61</td>\n",
              "    </tr>\n",
              "    <tr>\n",
              "      <th>222</th>\n",
              "      <td>223</td>\n",
              "      <td>Xiaomi Redmi 9</td>\n",
              "      <td>$159</td>\n",
              "      <td>Jun-20</td>\n",
              "      <td>37</td>\n",
              "      <td>NaN</td>\n",
              "      <td>NaN</td>\n",
              "      <td>25</td>\n",
              "      <td>54</td>\n",
              "      <td>$159,37,25,54</td>\n",
              "    </tr>\n",
              "  </tbody>\n",
              "</table>\n",
              "<p>223 rows × 10 columns</p>\n",
              "</div>"
            ],
            "text/plain": [
              "      ID                    model  price  launch  camera  selfie  audio  \\\n",
              "0      1           Huawei P50 Pro   $907  Jul-21     144   106.0    NaN   \n",
              "1      2       Xiaomi Mi 11 Ultra  $1200  Mar-21     143    94.0   71.0   \n",
              "2      3      Huawei Mate 40 Pro+  $1363  Oct-20     139     NaN    NaN   \n",
              "3      4  Apple iPhone 13 Pro Max  $1099  Sep-21     137    99.0   75.0   \n",
              "4      5      Apple iPhone 13 Pro   $999  Sep-21     137    99.0   75.0   \n",
              "..   ...                      ...    ...     ...     ...     ...    ...   \n",
              "218  219          Huawei P40 Lite   $279  Feb-20      39     NaN    NaN   \n",
              "219  220           Wiko Power U20   $159  Jan-21      39     NaN    NaN   \n",
              "220  221   Motorola Moto G9 Power   $229  Nov-20      37     NaN    NaN   \n",
              "221  222               Realme C11   $119  Jun-20      37     NaN    NaN   \n",
              "222  223           Xiaomi Redmi 9   $159  Jun-20      37     NaN    NaN   \n",
              "\n",
              "     display  battery combined_features  \n",
              "0         93       81    $907,144,93,81  \n",
              "1         87       69   $1200,143,87,69  \n",
              "2         85       89   $1363,139,85,89  \n",
              "3         99       89   $1099,137,99,89  \n",
              "4         98       76    $999,137,98,76  \n",
              "..       ...      ...               ...  \n",
              "218       41       73     $279,39,41,73  \n",
              "219       38       70     $159,39,38,70  \n",
              "220       35       70     $229,37,35,70  \n",
              "221       30       61     $119,37,30,61  \n",
              "222       25       54     $159,37,25,54  \n",
              "\n",
              "[223 rows x 10 columns]"
            ]
          },
          "execution_count": 6,
          "metadata": {},
          "output_type": "execute_result"
        }
      ],
      "source": [
        "df"
      ]
    },
    {
      "cell_type": "code",
      "execution_count": 7,
      "metadata": {
        "colab": {
          "base_uri": "https://localhost:8080/"
        },
        "id": "99tjZf2swtNV",
        "outputId": "128c13d6-4e09-4108-b16b-6fc0d7b1a192"
      },
      "outputs": [
        {
          "name": "stdout",
          "output_type": "stream",
          "text": [
            "Count Matrix: [[0 0 0 ... 0 0 0]\n",
            " [0 0 0 ... 0 0 0]\n",
            " [0 0 0 ... 0 0 0]\n",
            " ...\n",
            " [0 0 0 ... 0 0 0]\n",
            " [0 0 0 ... 0 0 0]\n",
            " [0 0 0 ... 0 0 0]]\n"
          ]
        }
      ],
      "source": [
        "cv = CountVectorizer()\n",
        "\n",
        "count_matrix = cv.fit_transform(df[\"combined_features\"])\n",
        "\n",
        "print(\"Count Matrix:\", count_matrix.toarray())"
      ]
    },
    {
      "cell_type": "code",
      "execution_count": 8,
      "metadata": {
        "colab": {
          "base_uri": "https://localhost:8080/"
        },
        "id": "2c6gsGbWxZDp",
        "outputId": "47727f7b-b50f-4109-c328-680e525591b2"
      },
      "outputs": [
        {
          "data": {
            "text/plain": [
              "array([[1.  , 0.  , 0.  , ..., 0.  , 0.  , 0.  ],\n",
              "       [0.  , 1.  , 0.  , ..., 0.  , 0.  , 0.  ],\n",
              "       [0.  , 0.  , 1.  , ..., 0.  , 0.  , 0.  ],\n",
              "       ...,\n",
              "       [0.  , 0.  , 0.  , ..., 1.  , 0.25, 0.25],\n",
              "       [0.  , 0.  , 0.  , ..., 0.25, 1.  , 0.25],\n",
              "       [0.  , 0.  , 0.  , ..., 0.25, 0.25, 1.  ]])"
            ]
          },
          "execution_count": 8,
          "metadata": {},
          "output_type": "execute_result"
        }
      ],
      "source": [
        "cosine_sim = cosine_similarity(count_matrix)\n",
        "cosine_sim"
      ]
    },
    {
      "cell_type": "code",
      "execution_count": 9,
      "metadata": {
        "id": "BIb5sgylVGk0"
      },
      "outputs": [],
      "source": [
        "user_current_phone = \"Google Pixel 4\"\n",
        "\n",
        "phone_ID = get_ID_from_model(user_current_phone)\n",
        "\n",
        "similar_phones = list(enumerate(cosine_sim[phone_ID]))\n",
        "sorted_similar_phones = sorted(similar_phones,key=lambda x:x[1],reverse=True)"
      ]
    },
    {
      "cell_type": "code",
      "execution_count": 10,
      "metadata": {
        "id": "kk_c3yqBwwl_"
      },
      "outputs": [],
      "source": [
        "def index():\n",
        " i = 0\n",
        " for phone in sorted_similar_phones:\n",
        "    print (get_model_from_ID(phone[0]))\n",
        "    i=i+1\n",
        "    if i > 3:\n",
        "      break"
      ]
    },
    {
      "cell_type": "code",
      "execution_count": 11,
      "metadata": {
        "colab": {
          "base_uri": "https://localhost:8080/"
        },
        "id": "PIqgRfDuw3p_",
        "outputId": "625d0479-d3ac-434c-a9bd-47aa8d149e51"
      },
      "outputs": [
        {
          "name": "stdout",
          "output_type": "stream",
          "text": [
            "Google Pixel 4\n",
            "Honor 20 Pro\n",
            "Huawei Mate 20 X\n",
            "Xiaomi Mi 8\n"
          ]
        }
      ],
      "source": [
        "index()"
      ]
    },
    {
      "cell_type": "code",
      "execution_count": 12,
      "metadata": {
        "id": "g_AiCQlX42lI"
      },
      "outputs": [],
      "source": [
        "import pickle"
      ]
    },
    {
      "cell_type": "code",
      "execution_count": 13,
      "metadata": {
        "id": "lpLpBwoh5Erq"
      },
      "outputs": [],
      "source": [
        "pickle.dump(df,open(\"meta_data.pkl\",\"wb\"))\n",
        "pickle.dump(cosine_sim,open(\"simiarity.pkl\",\"wb\"))"
      ]
    },
    {
      "cell_type": "code",
      "execution_count": 14,
      "metadata": {
        "colab": {
          "base_uri": "https://localhost:8080/"
        },
        "id": "x-w7BnNWWpfQ",
        "outputId": "9637d4cd-251e-4491-9483-0f0756a5cb22"
      },
      "outputs": [
        {
          "data": {
            "text/plain": [
              "array(['Huawei P50 Pro', 'Xiaomi Mi 11 Ultra', 'Huawei Mate 40 Pro+',\n",
              "       'Apple iPhone 13 Pro Max', 'Apple iPhone 13 Pro',\n",
              "       'Huawei Mate 40 Pro', 'Google Pixel 6 Pro', 'Vivo X70 Pro+',\n",
              "       'Asus Smartphone for Snapdragon Insiders', 'Xiaomi Mi 10 Ultra',\n",
              "       'Google Pixel 6', 'Huawei P40 Pro', 'Oppo Find X3 Pro',\n",
              "       'Vivo X70 Pro (MediaTek)', 'Vivo X50 Pro+', 'Apple iPhone 13',\n",
              "       'Apple iPhone 13 mini', 'Apple iPhone 12 Pro Max',\n",
              "       'Apple iPhone 12 Pro', 'Vivo X60 Pro+', 'Xiaomi Mi 10 Pro',\n",
              "       'Oppo Find X2 Pro', 'Samsung Galaxy S20 Ultra 5G (Exynos)',\n",
              "       'Honor 30 Pro+', 'Apple iPhone 11 Pro Max', 'OnePlus 9 Pro',\n",
              "       'Samsung Galaxy Z Fold3 5G', 'Huawei Mate 30 Pro 5G',\n",
              "       'Samsung Galaxy S21 Ultra 5G (Snapdragon)', 'Apple iPhone 12 mini',\n",
              "       'Apple iPhone 12', 'Honor V30 Pro', 'Huawei Mate 30 Pro',\n",
              "       'Oppo Reno6 Pro 5G', 'Oppo Reno6 Pro+',\n",
              "       'Samsung Galaxy S21 Ultra 5G (Exynos)',\n",
              "       'Xiaomi Mi CC9 Pro Premium Edition', 'Asus Zenfone 8',\n",
              "       'Google Pixel 5', 'Samsung Galaxy S21 FE 5G (Snapdragon)',\n",
              "       'Samsung Galaxy Note20 (Exynos)',\n",
              "       'Samsung Galaxy Note20 Ultra 5G (Exynos)',\n",
              "       'Vivo X60 Pro 5G (Snapdragon)', 'Xiaomi Mi 11',\n",
              "       'Xiaomi Redmi K30 Pro Zoom Edition', 'Apple iPhone 11',\n",
              "       'Samsung Galaxy S21+ 5G (Snapdragon)',\n",
              "       'Samsung Galaxy S21 5G (Snapdragon)', 'Asus Zenfone 8 Flip',\n",
              "       'OnePlus 8 Pro', 'Samsung Galaxy S20+ (Exynos)',\n",
              "       'Vivo X60 Pro 5G (Exynos)', 'Xiaomi Mi 10T Pro 5G',\n",
              "       'Motorola Edge+', 'Samsung Galaxy Note20 Ultra 5G (Snapdragon)',\n",
              "       'Samsung Galaxy Note 10+ (Exynos)', 'TCL 20 Pro 5G',\n",
              "       'Xiaomi 11T Pro', 'Huawei P30 Pro', 'OnePlus Nord 2 5G',\n",
              "       'Samsung Galaxy S21 5G (Exynos)',\n",
              "       'Samsung Galaxy S21+ 5G (Exynos)',\n",
              "       'Samsung Galaxy Note 10+ 5G (Exynos)',\n",
              "       'Samsung Galaxy S10 5G (Exynos)', 'Asus ZenFone 7 Pro',\n",
              "       'OnePlus 9', 'Oppo Find X3 Neo', 'Oppo Reno 10x Zoom',\n",
              "       'Samsung Galaxy S20 FE (Exynos)', 'Sony Xperia 1 III',\n",
              "       'OnePlus 7T Pro', 'OnePlus 7 Pro', 'Vivo X51 5G', 'Google Pixel 4',\n",
              "       'Honor 20 Pro', 'Samsung Galaxy S10+ (Exynos)', 'Huawei P40',\n",
              "       'Huawei Mate 20 Pro', 'Oppo Reno5 Pro+ 5G',\n",
              "       'Samsung Galaxy Note20 (Snapdragon)', 'Sony Xperia 1 II',\n",
              "       'Google Pixel 4a', 'Huawei Mate 20 X', 'OnePlus 8T',\n",
              "       'Sony Xperia 5 II', 'Xiaomi Mi 11i', 'Xiaomi Mi 11 Lite 5G',\n",
              "       'LG Wing', 'Xiaomi Mi 9', 'Huawei P20 Pro',\n",
              "       'Samsung Galaxy Z Fold2 5G', 'OnePlus Nord', 'Oppo A94 5G',\n",
              "       'Oppo Reno4 Pro 5G', 'Xiaomi 11T', 'Xiaomi Redmi K40 Pro+',\n",
              "       'Oppo Reno6 5G', 'ZTE Axon 30 Ultra', 'Apple iPhone XS Max',\n",
              "       'Realme GT Neo 2 5G', 'Xiaomi Redmi Note 10 Pro',\n",
              "       'Motorola Edge 20 Pro', 'Oppo Find X3 Lite', 'Oppo Reno4 5G',\n",
              "       'Oppo Find X2 Neo', 'Realme GT Neo', 'Samsung Galaxy A72',\n",
              "       'Samsung Galaxy Z Flip', 'Vivo V21 5G', 'Asus ZenFone 6',\n",
              "       'Apple iPhone SE (2020)', 'HTC U12+', 'POCO X3 NFC',\n",
              "       'Realme 8 Pro', 'Samsung Galaxy Note 9', 'Xiaomi Mi MIX 3',\n",
              "       'Google Pixel 3', 'OnePlus Nord CE 5G', 'Samsung Galaxy A52 5G',\n",
              "       'Xiaomi Redmi K20 Pro', 'Apple iPhone XR', 'Google Pixel 3a',\n",
              "       'LG V60 ThinQ 5G', 'Oppo Reno5 Pro 5G', 'Samsung Galaxy S9+',\n",
              "       'Google Pixel 2', 'LG G8 ThinQ', 'Xiaomi Mi 8', 'OnePlus 6T',\n",
              "       'Xiaomi Mi 10T 5G', 'Apple iPhone X', 'LG V40 ThinQ',\n",
              "       'Lenovo Z6 Pro', 'OnePlus 6', 'Asus ROG Phone 2', 'Realme X2 Pro',\n",
              "       'Sony Xperia 5', 'Apple iPhone 8 Plus', 'Samsung Galaxy Note 8',\n",
              "       'Vivo Y72 5G', 'Xiaomi Redmi Note 10S', 'Xiaomi Pocophone F1',\n",
              "       'Asus ZenFone 5', 'General Mobile GM9 Pro', 'Google Pixel',\n",
              "       'HTC U11', 'Samsung Galaxy A12', 'Vivo X20 Plus',\n",
              "       'Xiaomi Mi Note 3', 'Samsung Galaxy A22 5G',\n",
              "       'Samsung Galaxy S7 Edge', 'Apple iPhone 7 Plus',\n",
              "       'Samsung Galaxy A71 5G', 'Samsung Galaxy A9', 'Motorola One Zoom',\n",
              "       'Samsung Galaxy A51 5G', 'Sony Xperia 1', 'Vsmart Live',\n",
              "       'ZTE Axon 20 5G', 'Crosscall Trekker-X4', 'Nokia 8.3 5G',\n",
              "       'LG G7 ThinQ', 'Nokia 7.2', 'Nokia 9 PureView', 'Black Shark 2',\n",
              "       'LG V30', 'Samsung Galaxy A71', 'Xiaomi Redmi Note 8 Pro',\n",
              "       'Motorola Moto Z2 Force', 'Samsung Galaxy S6 Edge',\n",
              "       'Motorola Moto G7 Plus', 'Crosscall Core-X4', 'Samsung Galaxy A50',\n",
              "       'Apple iPhone 6', 'Google Nexus 6P', 'Meizu Pro 7 Plus',\n",
              "       'Lava Z25', 'Samsung Galaxy S5', 'Motorola Moto G5S',\n",
              "       'Apple iPhone 5s', 'Nokia 8', 'Wiko View 3 Pro', 'Fairphone 3',\n",
              "       'Altice S61', 'Huawei nova 6 5G', 'Samsung Galaxy S8', 'Meitu T9',\n",
              "       'Meitu V6', 'Intex Aqua Selfie', 'Black Shark 4S Pro',\n",
              "       'Honor Magic3 Pro +', 'Black Shark 4 Pro', 'Xiaomi Mi 10S',\n",
              "       'Asus ROG Phone 5', 'Asus ROG Phone 3',\n",
              "       'Lenovo Legion Phone 2 Pro', 'Xiaomi Redmi K40 Gaming',\n",
              "       'OnePlus 8', 'Nubia RedMagic 6 Pro', 'Nubia Red Magic 5S',\n",
              "       'Lenovo Legion Phone Pro', 'Realme GT 5G', 'Motorola Razr',\n",
              "       'Black Shark 3 Pro', 'Black Shark 2 Pro', 'Nubia Red Magic 3S',\n",
              "       'TCL 10 Pro', 'Microsoft Surface Duo', 'Fairphone 4', 'Realme C21',\n",
              "       'Samsung Galaxy M51', 'Xiaomi Redmi Note 10', 'Oppo A74',\n",
              "       'Wiko Power U30', 'Oppo A74 5G', 'Xiaomi Redmi Note 10 5G',\n",
              "       'Oppo A54 5G', 'Vivo Y20s', 'Huawei P40 Lite', 'Wiko Power U20',\n",
              "       'Motorola Moto G9 Power', 'Realme C11', 'Xiaomi Redmi 9'],\n",
              "      dtype=object)"
            ]
          },
          "execution_count": 14,
          "metadata": {},
          "output_type": "execute_result"
        }
      ],
      "source": [
        "np.array(df[\"model\"])"
      ]
    }
  ],
  "metadata": {
    "colab": {
      "name": "preprocessing3.ipynb",
      "provenance": []
    },
    "kernelspec": {
      "display_name": "Python 3",
      "name": "python3"
    },
    "language_info": {
      "codemirror_mode": {
        "name": "ipython",
        "version": 3
      },
      "file_extension": ".py",
      "mimetype": "text/x-python",
      "name": "python",
      "nbconvert_exporter": "python",
      "pygments_lexer": "ipython3",
      "version": "3.8.5"
    }
  },
  "nbformat": 4,
  "nbformat_minor": 0
}
